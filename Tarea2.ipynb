{
  "cells": [
    {
      "cell_type": "code",
      "execution_count": null,
      "metadata": {
        "id": "RuU7abrSp0pG"
      },
      "outputs": [],
      "source": [
        "import pandas as pd\n",
        "import matplotlib.pyplot as plt\n",
        "import seaborn as sns\n",
        "import pandas as pd\n",
        "import numpy as np\n",
        "from sklearn.linear_model import LinearRegression\n",
        "import statsmodels.api as sm\n",
        "from sklearn.metrics import r2_score\n",
        "from sklearn.model_selection import train_test_split\n",
        "from sklearn import metrics\n",
        "from sklearn.neighbors import KNeighborsRegressor\n",
        "from sklearn.preprocessing import StandardScaler\n",
        "from sklearn.svm import SVR"
      ]
    },
    {
      "cell_type": "code",
      "execution_count": null,
      "metadata": {
        "id": "a1k5EJLhryJJ"
      },
      "outputs": [],
      "source": [
        "file_path = r\"datos_apartamentos_rent.xlsx\"\n",
        "df = pd.read_excel(file_path)\n",
        "df = pd.DataFrame(df)\n",
        "\n",
        "# Se crea una columna con el precio mensual\n",
        "df[\"price_monthly\"] = df.apply(lambda x: x[\"price\"] * 4 if x[\"price_type\"] == \"Weekly\" else x[\"price\"], axis=1)"
      ]
    },
    {
      "cell_type": "markdown",
      "metadata": {},
      "source": [
        "# Tarea 2"
      ]
    },
    {
      "cell_type": "code",
      "execution_count": null,
      "metadata": {
        "id": "GKcbqzHtpxLp"
      },
      "outputs": [],
      "source": [
        "# EXPLORACIÓN DE DATOS\n",
        "\n",
        "# Extraer las comodidades de los inmueblde de la columna \"amenities\"\n",
        "def get_unique_amenities(df, column=\"amenities\"):\n",
        "    unique_amenities = set()\n",
        "    df[column].dropna().apply(lambda x: unique_amenities.update(x.split(\",\")))\n",
        "    return list(unique_amenities)\n"
      ]
    },
    {
      "cell_type": "code",
      "execution_count": null,
      "metadata": {
        "colab": {
          "base_uri": "https://localhost:8080/"
        },
        "id": "cweIWpfkpzhl",
        "outputId": "f3434b0b-65b9-4114-a118-7eae3f1528c0"
      },
      "outputs": [],
      "source": [
        "# Obtener lista sin duplicados\n",
        "unique_amenities_list = get_unique_amenities(df)\n",
        "print(unique_amenities_list)"
      ]
    },
    {
      "cell_type": "code",
      "execution_count": null,
      "metadata": {},
      "outputs": [],
      "source": [
        "#Estadisticas Descriptivas\n",
        "\n",
        "print(df[[\"price_monthly\", \"square_feet\", \"bathrooms\", \"bedrooms\", \"time\"]].describe())\n",
        "print(df[[\"state\", \"cityname\", \"category\", \"amenities\"]].describe(include=\"object\"))"
      ]
    },
    {
      "cell_type": "code",
      "execution_count": null,
      "metadata": {},
      "outputs": [],
      "source": [
        "# Boxplot de Precio\n",
        "\n",
        "plt.figure(figsize=(8, 6))\n",
        "\n",
        "\n",
        "sns.boxplot(y=df[\"price_monthly\"], palette=\"coolwarm\")\n",
        "\n",
        "plt.ylabel(\"Precio\")\n",
        "plt.title(\"Distribución del Precio de Alquiler\")\n",
        "\n",
        "plt.show()"
      ]
    },
    {
      "cell_type": "code",
      "execution_count": null,
      "metadata": {},
      "outputs": [],
      "source": [
        "# Boxplot Square Feet vs. Categoría\n",
        "\n",
        "df_apartment = df[df[\"category\"] == \"housing/rent/apartment\"]\n",
        "df_other = df[df[\"category\"] != \"housing/rent/apartment\"]\n",
        "\n",
        "# Categoría Apartment\n",
        "\n",
        "plt.figure(figsize=(8, 6))\n",
        "\n",
        "\n",
        "sns.boxplot(x=df_apartment[\"category\"], y=df_apartment[\"square_feet\"], palette=\"coolwarm\")\n",
        "\n",
        "plt.xlabel(\"Categoría del Anuncio\")\n",
        "plt.ylabel(\"Tamaño en Pies Cuadrados\")\n",
        "plt.title(\"Distribución del Tamaño para 'Apartment'\")\n",
        "plt.show()\n",
        "\n",
        "# Demás categorias\n",
        "\n",
        "plt.figure(figsize=(8, 6))\n",
        "\n",
        "\n",
        "sns.boxplot(x=df_other[\"category\"], y=df_other[\"square_feet\"], palette=\"coolwarm\")\n",
        "\n",
        "plt.xlabel(\"Categoría del Anuncio\")\n",
        "plt.ylabel(\"Tamaño en Pies Cuadrados\")\n",
        "plt.title(\"Distribución del Tamaño para Otras Categorías\")\n",
        "\n",
        "plt.xticks(rotation=45)\n",
        "plt.show()"
      ]
    },
    {
      "cell_type": "code",
      "execution_count": null,
      "metadata": {},
      "outputs": [],
      "source": [
        "# Grafico Dispersión Precio vs. Square Feet\n",
        "\n",
        "plt.figure(figsize=(10, 6))\n",
        "\n",
        "#Se filtra el valor de 40000 pies cuadrados para mejor visualización\n",
        "df_filtered = df[df[\"square_feet\"] < 40000]\n",
        "\n",
        "sns.scatterplot(x=df_filtered[\"square_feet\"], y=df_filtered[\"price_monthly\"], alpha=0.5)\n",
        "\n",
        "plt.xlim(df_filtered[\"square_feet\"].min(), df_filtered[\"square_feet\"].max())\n",
        "plt.ylim(df_filtered[\"price_monthly\"].min(), df_filtered[\"price_monthly\"].max())\n",
        "\n",
        "plt.xlabel(\"Tamaño en Pies Cuadrados\")\n",
        "plt.ylabel(\"Precio\")\n",
        "plt.title(\"Relación entre Precio y Metraje\")\n",
        "\n",
        "plt.show()"
      ]
    },
    {
      "cell_type": "code",
      "execution_count": null,
      "metadata": {},
      "outputs": [],
      "source": [
        "# Gráfico Ranking Estados\n",
        "\n",
        "state_counts = df[\"state\"].value_counts()\n",
        "\n",
        "plt.figure(figsize=(12, 6))\n",
        "\n",
        "\n",
        "sns.barplot(x=state_counts.index, y=state_counts.values, palette=\"viridis\")\n",
        "\n",
        "plt.xlabel(\"Estado\")\n",
        "plt.ylabel(\"Cantidad de Registros\")\n",
        "plt.title(\"Cantidad de Registros por Estado\")\n",
        "plt.xticks(rotation=90)  # Rotar etiquetas del eje para mejor visibilidad\n",
        "\n",
        "plt.show()"
      ]
    },
    {
      "cell_type": "code",
      "execution_count": null,
      "metadata": {},
      "outputs": [],
      "source": [
        "# Ranking Ciudades más costosas\n",
        "\n",
        "#Se puede modificar el num de ciudades a mostrar en el apartado head\n",
        "city_avg_price = df.groupby(\"cityname\")[\"price_monthly\"].mean().sort_values(ascending=False).head(30)\n",
        "\n",
        "plt.figure(figsize=(12, 6))\n",
        "\n",
        "\n",
        "sns.barplot(x=city_avg_price.values, y=city_avg_price.index, palette=\"coolwarm\")\n",
        "\n",
        "plt.xlabel(\"Precio Promedio ($)\")\n",
        "plt.ylabel(\"Ciudad\")\n",
        "plt.title(\"Top 10 Ciudades con el Precio Promedio más Alto\")\n",
        "\n",
        "plt.show()"
      ]
    },
    {
      "cell_type": "code",
      "execution_count": null,
      "metadata": {},
      "outputs": [],
      "source": [
        "# Gráfico de Violin Square Feet por Estado\n",
        "\n",
        "plt.figure(figsize=(12, 6))\n",
        "\n",
        "\n",
        "sns.violinplot(x=df[\"state\"], y=df[\"square_feet\"], palette=\"muted\")\n",
        "\n",
        "plt.xlabel(\"Estado\")\n",
        "plt.ylabel(\"Tamaño en Pies Cuadrados\")\n",
        "plt.title(\"Distribución del Tamaño de Apartamentos por Estado\")\n",
        "\n",
        "plt.xticks(rotation=90) #Se rotan las etiquetas para mejor visualización\n",
        "plt.show()"
      ]
    },
    {
      "cell_type": "code",
      "execution_count": null,
      "metadata": {},
      "outputs": [],
      "source": [
        "#Se excluye el estado de NY para ver mejor la distribución de los demás estados\n",
        "df_filtered_states = df[df[\"state\"] != \"NY\"]\n",
        "\n",
        "plt.figure(figsize=(12, 6))\n",
        "\n",
        "\n",
        "sns.violinplot(x=df_filtered_states[\"state\"], y=df_filtered_states[\"square_feet\"], palette=\"muted\")\n",
        "\n",
        "plt.xlabel(\"Estado\")\n",
        "plt.ylabel(\"Tamaño en Pies Cuadrados\")\n",
        "plt.title(\"Distribución del Tamaño de Apartamentos por Estado (Sin NY)\")\n",
        "\n",
        "plt.xticks(rotation=90)\n",
        "plt.show()"
      ]
    },
    {
      "cell_type": "code",
      "execution_count": null,
      "metadata": {},
      "outputs": [],
      "source": [
        "# Boxplot Square Feet por Número de Habitaciones\n",
        "\n",
        "plt.figure(figsize=(10, 6))\n",
        "\n",
        "\n",
        "sns.boxplot(x=df[\"bedrooms\"], y=df[\"square_feet\"])\n",
        "\n",
        "plt.xlabel(\"Número de Habitaciones\")\n",
        "plt.ylabel(\"Tamaño en Pies Cuadrados\")\n",
        "plt.title(\"Distribución del Tamaño por Número de Habitaciones\")\n",
        "plt.show()"
      ]
    },
    {
      "cell_type": "code",
      "execution_count": null,
      "metadata": {},
      "outputs": [],
      "source": [
        "# Heatmap de Baños por número de Habitaciones\n",
        "cross_tab = pd.crosstab(df[\"bathrooms\"], df[\"bedrooms\"])\n",
        "\n",
        "plt.figure(figsize=(8, 6))\n",
        "\n",
        "\n",
        "sns.heatmap(cross_tab, annot=True, fmt=\"d\", cmap=\"coolwarm\", linewidths=0.5)\n",
        "\n",
        "plt.xlabel(\"Número de Habitaciones\")\n",
        "plt.ylabel(\"Número de Baños\")\n",
        "plt.title(\"Relación entre Número de Habitaciones y Baños\")\n",
        "\n",
        "plt.show()"
      ]
    },
    {
      "cell_type": "code",
      "execution_count": null,
      "metadata": {},
      "outputs": [],
      "source": [
        "# Matriz de correlación (bathrooms, bedrooms, square_feet, price_monthly)\n",
        "\n",
        "# Se seleccionan las variables para la matriz de correlación\n",
        "numeric_cols = ['bathrooms', 'bedrooms', 'square_feet', 'price_monthly']\n",
        "df_numeric = df[numeric_cols].dropna()  # Eliminar filas con valores nulos\n",
        "\n",
        "# Calcular la matriz de correlación\n",
        "correlation_matrix = df_numeric.corr()\n",
        "\n",
        "# Visualizar la matriz de correlación\n",
        "plt.figure(figsize=(8, 6))\n",
        "sns.heatmap(correlation_matrix, annot=True, cmap=\"coolwarm\", fmt=\".2f\", linewidths=0.5)\n",
        "plt.title(\"Matriz de Correlación\")\n",
        "plt.show()"
      ]
    }
  ],
  "metadata": {
    "colab": {
      "provenance": []
    },
    "kernelspec": {
      "display_name": "Python 3",
      "name": "python3"
    },
    "language_info": {
      "codemirror_mode": {
        "name": "ipython",
        "version": 3
      },
      "file_extension": ".py",
      "mimetype": "text/x-python",
      "name": "python",
      "nbconvert_exporter": "python",
      "pygments_lexer": "ipython3",
      "version": "3.11.9"
    }
  },
  "nbformat": 4,
  "nbformat_minor": 0
}
