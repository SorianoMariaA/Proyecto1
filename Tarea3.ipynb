{
  "cells": [
    {
      "cell_type": "code",
      "execution_count": 1,
      "metadata": {
        "id": "RuU7abrSp0pG"
      },
      "outputs": [],
      "source": [
        "import pandas as pd\n",
        "import matplotlib.pyplot as plt\n",
        "import seaborn as sns\n",
        "import pandas as pd\n",
        "import numpy as np\n",
        "from sklearn.linear_model import LinearRegression\n",
        "import statsmodels.api as sm\n",
        "from sklearn.metrics import r2_score\n",
        "from sklearn.model_selection import train_test_split\n",
        "from sklearn import metrics\n",
        "from sklearn.neighbors import KNeighborsRegressor\n",
        "from sklearn.preprocessing import StandardScaler\n",
        "from sklearn.svm import SVR"
      ]
    },
    {
      "cell_type": "code",
      "execution_count": 2,
      "metadata": {
        "id": "a1k5EJLhryJJ"
      },
      "outputs": [],
      "source": [
        "file_path = r\"datos_apartamentos_rent.xlsx\"\n",
        "df = pd.read_excel(file_path)\n",
        "df = pd.DataFrame(df)\n",
        "# Se crea una columna con el precio mensual\n",
        "df[\"price_monthly\"] = df.apply(lambda x: x[\"price\"] * 4 if x[\"price_type\"] == \"Weekly\" else x[\"price\"], axis=1)"
      ]
    },
    {
      "cell_type": "code",
      "execution_count": 3,
      "metadata": {},
      "outputs": [],
      "source": [
        "# Extraer las comodidades de los inmueblde de la columna \"amenities\"\n",
        "def get_unique_amenities(df, column=\"amenities\"):\n",
        "    unique_amenities = set()\n",
        "    df[column].dropna().apply(lambda x: unique_amenities.update(x.split(\",\")))\n",
        "    return list(unique_amenities)\n",
        "\n",
        "# Obtener lista sin duplicados\n",
        "unique_amenities_list = get_unique_amenities(df)"
      ]
    },
    {
      "cell_type": "markdown",
      "metadata": {},
      "source": [
        "# Tarea 3"
      ]
    },
    {
      "cell_type": "code",
      "execution_count": 4,
      "metadata": {},
      "outputs": [
        {
          "name": "stderr",
          "output_type": "stream",
          "text": [
            "C:\\Users\\felip\\AppData\\Local\\Temp\\ipykernel_2956\\2019282392.py:11: FutureWarning: A value is trying to be set on a copy of a DataFrame or Series through chained assignment using an inplace method.\n",
            "The behavior will change in pandas 3.0. This inplace method will never work because the intermediate object on which we are setting values always behaves as a copy.\n",
            "\n",
            "For example, when doing 'df[col].method(value, inplace=True)', try using 'df.method({col: value}, inplace=True)' or df[col] = df[col].method(value) instead, to perform the operation inplace on the original object.\n",
            "\n",
            "\n",
            "  df['address'].fillna('No adress given', inplace=True)\n"
          ]
        }
      ],
      "source": [
        "# LIMPIEZA DE DATOS\n",
        "\n",
        "# Se eliminan las filas con valores nulos en las columnas latitude y longitude\n",
        "df = df.dropna(subset=['latitude', 'longitude'])\n",
        "\n",
        "# Se detectó que los valores de latitude y longitude se importaron mal, se procede a corregir\n",
        "df['latitude'] = df['latitude']/10000\n",
        "df['longitude'] = df['longitude']/10000\n",
        "\n",
        "# Se reemplazan los datos nulos de address por una respuesta negativa\n",
        "df['address'].fillna('No adress given', inplace=True)\n",
        "\n",
        "# Se reemplazan los valores nulos de la columna \"pets_allowed\" por \"None\" para que pandas no confunda None con null\n",
        "df[\"pets_allowed\"] = df[\"pets_allowed_corrected\"].apply(lambda x: \"None\" if x == \"No pets\" else x)"
      ]
    },
    {
      "cell_type": "code",
      "execution_count": 5,
      "metadata": {},
      "outputs": [
        {
          "name": "stdout",
          "output_type": "stream",
          "text": [
            "id                           0\n",
            "category                     0\n",
            "title                        0\n",
            "body                         0\n",
            "amenities                 3542\n",
            "bathrooms                   34\n",
            "bedrooms                     7\n",
            "currency                     0\n",
            "fee                          0\n",
            "has_photo                    0\n",
            "pets_allowed              1748\n",
            "price                        0\n",
            "price_display                0\n",
            "price_type                   0\n",
            "square_feet                  0\n",
            "address                      0\n",
            "cityname                    67\n",
            "state                       67\n",
            "latitude                     0\n",
            "longitude                    0\n",
            "source                       0\n",
            "time                         0\n",
            "pets_allowed_corrected    1748\n",
            "price_monthly                0\n",
            "cityname_corrected           0\n",
            "dtype: int64\n"
          ]
        }
      ],
      "source": [
        "df['cityname_corrected'] = df['cityname']\n",
        "\n",
        "df.loc[df['cityname'].isna() & (df['latitude'] == 39.8163), 'cityname_corrected'] = 'Lebanon'\n",
        "df.loc[df['cityname'].isna() & (df['latitude'] == 28.45900), 'cityname_corrected'] = 'Trilby'\n",
        "\n",
        "null_counts = df.isnull().sum()\n",
        "print(null_counts)"
      ]
    },
    {
      "cell_type": "code",
      "execution_count": 6,
      "metadata": {},
      "outputs": [
        {
          "name": "stdout",
          "output_type": "stream",
          "text": [
            "id                           0\n",
            "category                     0\n",
            "title                        0\n",
            "body                         0\n",
            "amenities                 3542\n",
            "bathrooms                   34\n",
            "bedrooms                     7\n",
            "currency                     0\n",
            "fee                          0\n",
            "has_photo                    0\n",
            "pets_allowed              1748\n",
            "price                        0\n",
            "price_display                0\n",
            "price_type                   0\n",
            "square_feet                  0\n",
            "address                      0\n",
            "cityname                    67\n",
            "state                       67\n",
            "latitude                     0\n",
            "longitude                    0\n",
            "source                       0\n",
            "time                         0\n",
            "pets_allowed_corrected    1748\n",
            "price_monthly                0\n",
            "cityname_corrected           0\n",
            "state_corrected              0\n",
            "dtype: int64\n"
          ]
        }
      ],
      "source": [
        "# Se corrige el estado para los datos nulos\n",
        "df['state_corrected'] = df['state']\n",
        "\n",
        "df.loc[df['state'].isna() & (df['latitude'] == 39.8163), 'state_corrected'] = 'KS'\n",
        "df.loc[df['state'].isna() & (df['latitude'] == 28.4590), 'state_corrected'] = 'FL'\n",
        "\n",
        "#Se verifica que no quedan datos nulos\n",
        "\n",
        "null_counts = df.isnull().sum()\n",
        "print(null_counts)"
      ]
    },
    {
      "cell_type": "code",
      "execution_count": 7,
      "metadata": {},
      "outputs": [
        {
          "name": "stderr",
          "output_type": "stream",
          "text": [
            "C:\\Users\\felip\\AppData\\Local\\Temp\\ipykernel_2956\\3372822796.py:2: FutureWarning: A value is trying to be set on a copy of a DataFrame or Series through chained assignment using an inplace method.\n",
            "The behavior will change in pandas 3.0. This inplace method will never work because the intermediate object on which we are setting values always behaves as a copy.\n",
            "\n",
            "For example, when doing 'df[col].method(value, inplace=True)', try using 'df.method({col: value}, inplace=True)' or df[col] = df[col].method(value) instead, to perform the operation inplace on the original object.\n",
            "\n",
            "\n",
            "  df['bedrooms'].fillna(df['bedrooms'].mean(), inplace=True)\n"
          ]
        }
      ],
      "source": [
        "# Se reemplazan los datos nulos de bedrooms por la media\n",
        "df['bedrooms'].fillna(df['bedrooms'].mean(), inplace=True)"
      ]
    },
    {
      "cell_type": "code",
      "execution_count": 8,
      "metadata": {},
      "outputs": [
        {
          "name": "stdout",
          "output_type": "stream",
          "text": [
            "id                           0\n",
            "category                     0\n",
            "title                        0\n",
            "body                         0\n",
            "amenities                 3542\n",
            "bathrooms                    0\n",
            "bedrooms                     0\n",
            "currency                     0\n",
            "fee                          0\n",
            "has_photo                    0\n",
            "pets_allowed              1748\n",
            "price                        0\n",
            "price_display                0\n",
            "price_type                   0\n",
            "square_feet                  0\n",
            "address                      0\n",
            "cityname                    67\n",
            "state                       67\n",
            "latitude                     0\n",
            "longitude                    0\n",
            "source                       0\n",
            "time                         0\n",
            "pets_allowed_corrected    1748\n",
            "price_monthly                0\n",
            "cityname_corrected           0\n",
            "state_corrected              0\n",
            "dtype: int64\n"
          ]
        }
      ],
      "source": [
        "# Se reemplazan los datos nulos de bathrooms por una regresión lineal (price_monthly, square_feet, bedrooms)\n",
        "\n",
        "# Imputar bathrooms\n",
        "bathrooms_notnull = df[df['bathrooms'].notnull()]\n",
        "bathrooms_null = df[df['bathrooms'].isnull()]\n",
        "features = ['bedrooms', 'square_feet', 'price_monthly']  # Variables predictoras\n",
        "\n",
        "model_bathrooms = LinearRegression()\n",
        "model_bathrooms.fit(bathrooms_notnull[features], bathrooms_notnull['bathrooms'])\n",
        "df.loc[df['bathrooms'].isnull(), 'bathrooms'] = model_bathrooms.predict(bathrooms_null[features])\n",
        "\n",
        "null_counts = df.isnull().sum()\n",
        "print(null_counts)"
      ]
    },
    {
      "cell_type": "code",
      "execution_count": 9,
      "metadata": {},
      "outputs": [],
      "source": [
        "# IMPORTANTE HACER PIP INSTALL SKLEARN SI NO FUNCIONAN LOS IMPORTS\n",
        "\n",
        "from sklearn.experimental import enable_iterative_imputer\n",
        "from sklearn.impute import IterativeImputer\n",
        "from sklearn.ensemble import RandomForestRegressor\n",
        "\n",
        "# Mapear valores de pets_allowed a números\n",
        "pets_mapping = {\n",
        "    \"None\": 0,\n",
        "    \"Cats\": 1,\n",
        "    \"Dogs\": 2,\n",
        "    \"Cats,Dogs\": 3\n",
        "}\n",
        "df['pets_allowed'] = df['pets_allowed'].map(pets_mapping)\n",
        "\n",
        "categorical_features = ['category', 'source']\n",
        "\n",
        "# Se hace la codificación de las variables categóricas\n",
        "df_encoded = pd.get_dummies(df, columns=categorical_features, drop_first=True)\n",
        "\n",
        "# Seleccionar las variables predictoras\n",
        "pets_features = ['bedrooms', 'square_feet', 'price_monthly'] + [col for col in df_encoded.columns if col.startswith('category_') or col.startswith('source_')]"
      ]
    },
    {
      "cell_type": "code",
      "execution_count": 10,
      "metadata": {},
      "outputs": [],
      "source": [
        "# Aplicar imputación múltiple con IterativeImputer usando RandomForest\n",
        "imputer = IterativeImputer(estimator=RandomForestRegressor(n_estimators=100, random_state=42), max_iter=10)\n",
        "\n",
        "# Aplicar imputación asegurando que la salida sea un DataFrame\n",
        "imputed_values = imputer.fit_transform(df_encoded[['pets_allowed'] + pets_features])"
      ]
    },
    {
      "cell_type": "code",
      "execution_count": 11,
      "metadata": {},
      "outputs": [
        {
          "data": {
            "text/plain": [
              "pets_allowed\n",
              "Cats,Dogs    6580\n",
              "None         2414\n",
              "Cats          567\n",
              "Dogs          429\n",
              "Name: count, dtype: int64"
            ]
          },
          "execution_count": 11,
          "metadata": {},
          "output_type": "execute_result"
        }
      ],
      "source": [
        "# Convertir el array imputado nuevamente a un DataFrame\n",
        "df_imputed = pd.DataFrame(imputed_values, columns=['pets_allowed'] + pets_features, index=df_encoded.index)\n",
        "\n",
        "# Redondear los valores imputados de pets_allowed y convertir a enteros\n",
        "df_imputed['pets_allowed'] = df_imputed['pets_allowed'].round().astype(int)\n",
        "\n",
        "# Sobrescribir los valores imputados en el df original\n",
        "df['pets_allowed'] = df_imputed['pets_allowed']\n",
        "\n",
        "# Devolver el mapeo\n",
        "reverse_mapping = {0: \"None\", 1: \"Cats\", 2: \"Dogs\", 3: \"Cats,Dogs\"}\n",
        "df['pets_allowed'] = df['pets_allowed'].map(reverse_mapping)\n",
        "\n",
        "df['pets_allowed'].value_counts()"
      ]
    },
    {
      "cell_type": "code",
      "execution_count": 12,
      "metadata": {},
      "outputs": [],
      "source": [
        "# Se corrigen los valores nulos de amenities mediante el texto de la columna body\n",
        "# Función para extraer amenities de \"body\"\n",
        "def extract_amenities_from_body(body_text, amenities_list):\n",
        "    if pd.isna(body_text):  # Si el texto es NaN, devolver None\n",
        "        return None\n",
        "    found_amenities = [amenity for amenity in amenities_list if amenity.lower() in body_text.lower()] #.lower() devuelve todo el texto en minusc.\n",
        "    return \",\".join(found_amenities) if found_amenities else None #Unir las amenities como la columna original"
      ]
    },
    {
      "cell_type": "code",
      "execution_count": 13,
      "metadata": {},
      "outputs": [
        {
          "name": "stdout",
          "output_type": "stream",
          "text": [
            "id                           0\n",
            "category                     0\n",
            "title                        0\n",
            "body                         0\n",
            "amenities                    0\n",
            "bathrooms                    0\n",
            "bedrooms                     0\n",
            "currency                     0\n",
            "fee                          0\n",
            "has_photo                    0\n",
            "pets_allowed                 0\n",
            "price                        0\n",
            "price_display                0\n",
            "price_type                   0\n",
            "square_feet                  0\n",
            "address                      0\n",
            "cityname                    67\n",
            "state                       67\n",
            "latitude                     0\n",
            "longitude                    0\n",
            "source                       0\n",
            "time                         0\n",
            "pets_allowed_corrected    1748\n",
            "price_monthly                0\n",
            "cityname_corrected           0\n",
            "state_corrected              0\n",
            "dtype: int64\n"
          ]
        },
        {
          "name": "stderr",
          "output_type": "stream",
          "text": [
            "C:\\Users\\felip\\AppData\\Local\\Temp\\ipykernel_2956\\1216768869.py:11: FutureWarning: A value is trying to be set on a copy of a DataFrame or Series through chained assignment using an inplace method.\n",
            "The behavior will change in pandas 3.0. This inplace method will never work because the intermediate object on which we are setting values always behaves as a copy.\n",
            "\n",
            "For example, when doing 'df[col].method(value, inplace=True)', try using 'df.method({col: value}, inplace=True)' or df[col] = df[col].method(value) instead, to perform the operation inplace on the original object.\n",
            "\n",
            "\n",
            "  df[\"amenities\"].fillna(\"No Amenities\", inplace=True)\n"
          ]
        }
      ],
      "source": [
        "# Funcion para completar los valores nulos en \"amenities\"\n",
        "def completar_amenities(row):\n",
        "    if pd.isna(row[\"amenities\"]):  # Si el valor en \"amenities\" es NaN se extrae los amenities de \"body\"\n",
        "        return extract_amenities_from_body(row[\"body\"], unique_amenities_list)\n",
        "    return row[\"amenities\"]\n",
        "\n",
        "# Aplicar la función a cada fila\n",
        "df[\"amenities\"] = df.apply(completar_amenities, axis=1)\n",
        "\n",
        "# Reemplazar los valores nulos restantes en \"amenities\" por \"No Amenities\"\n",
        "df[\"amenities\"].fillna(\"No Amenities\", inplace=True)\n",
        "\n",
        "null_counts = df.isnull().sum()\n",
        "print(null_counts)"
      ]
    },
    {
      "cell_type": "code",
      "execution_count": 14,
      "metadata": {},
      "outputs": [],
      "source": [
        "# Codificación de las variables categóricas\n",
        "categorical_features = ['category', 'pets_allowed', 'cityname_corrected', 'state_corrected', 'source']\n",
        "df = pd.get_dummies(df, columns=categorical_features, drop_first=True)\n",
        "\n",
        "df['year'] = pd.to_datetime(df['time'], unit='s').dt.year\n",
        "df['month'] = pd.to_datetime(df['time'], unit='s').dt.month\n",
        "df['day'] = pd.to_datetime(df['time'], unit='s').dt.day\n"
      ]
    },
    {
      "cell_type": "code",
      "execution_count": 15,
      "metadata": {},
      "outputs": [
        {
          "name": "stdout",
          "output_type": "stream",
          "text": [
            "                 id    bathrooms     bedrooms        price  square_feet  \\\n",
            "count  9.750000e+03  9750.000000  9750.000000  9750.000000  9750.000000   \n",
            "mean   5.622496e+09     1.345914     1.701765  1416.757538   903.024513   \n",
            "std    7.068095e+07     0.544479     0.877644   701.641655   407.814262   \n",
            "min    5.508654e+09     0.491745     0.000000   200.000000   101.000000   \n",
            "25%    5.509242e+09     1.000000     1.000000   944.000000   647.000000   \n",
            "50%    5.668609e+09     1.000000     2.000000  1259.000000   800.000000   \n",
            "75%    5.668626e+09     2.000000     2.000000  1671.500000  1086.750000   \n",
            "max    5.668662e+09     4.000000     5.000000  5350.000000  2760.000000   \n",
            "\n",
            "          latitude    longitude          time  price_monthly    year  \\\n",
            "count  9750.000000  9750.000000  9.750000e+03    9750.000000  9750.0   \n",
            "mean     37.614844   -94.166747  1.574843e+09    1416.757538  2019.0   \n",
            "std       5.257673    15.110758  3.787602e+06     701.641655     0.0   \n",
            "min      25.380100  -123.328300  1.568744e+09     200.000000  2019.0   \n",
            "25%      33.679500   -98.557600  1.568781e+09     944.000000  2019.0   \n",
            "50%      38.823350   -93.651600  1.577358e+09    1259.000000  2019.0   \n",
            "75%      41.319500   -81.825900  1.577359e+09    1671.500000  2019.0   \n",
            "max      48.787100   -70.191600  1.577362e+09    5350.000000  2019.0   \n",
            "\n",
            "             month          day  \n",
            "count  9750.000000  9750.000000  \n",
            "mean     11.161128    22.341846  \n",
            "std       1.343462     4.384411  \n",
            "min       9.000000     1.000000  \n",
            "25%       9.000000    18.000000  \n",
            "50%      12.000000    26.000000  \n",
            "75%      12.000000    26.000000  \n",
            "max      12.000000    30.000000  \n"
          ]
        }
      ],
      "source": [
        "# Filtrar Outliers\n",
        "def filter_outliers(df, tolerance=4):\n",
        "    numeric_cols = df.select_dtypes(include=['float64', 'int64']).columns\n",
        "    numeric_cols = numeric_cols.difference(['id', 'price'])\n",
        "    for col in numeric_cols:\n",
        "        mean = df[col].mean()\n",
        "        std = df[col].std()\n",
        "        lower_bound = mean - (std * tolerance)\n",
        "        upper_bound = mean + (std * tolerance)\n",
        "        df = df[(df[col] >= lower_bound) & (df[col] <= upper_bound)]\n",
        "    return df\n",
        "\n",
        "df_final = filter_outliers(df)\n",
        "print(df_final.describe())"
      ]
    },
    {
      "cell_type": "code",
      "execution_count": 16,
      "metadata": {},
      "outputs": [],
      "source": [
        "# Para descargar el excel\n",
        "df_final.to_excel(\"datos_apartamentos_rent_actualizado.xlsx\", index=False)"
      ]
    }
  ],
  "metadata": {
    "colab": {
      "provenance": []
    },
    "kernelspec": {
      "display_name": "Python 3",
      "name": "python3"
    },
    "language_info": {
      "codemirror_mode": {
        "name": "ipython",
        "version": 3
      },
      "file_extension": ".py",
      "mimetype": "text/x-python",
      "name": "python",
      "nbconvert_exporter": "python",
      "pygments_lexer": "ipython3",
      "version": "3.11.9"
    }
  },
  "nbformat": 4,
  "nbformat_minor": 0
}
